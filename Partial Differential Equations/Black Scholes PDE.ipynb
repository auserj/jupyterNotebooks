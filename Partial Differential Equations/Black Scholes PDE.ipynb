{
 "cells": [
  {
   "cell_type": "code",
   "execution_count": 42,
   "metadata": {
    "collapsed": false,
    "deletable": true,
    "editable": true
   },
   "outputs": [],
   "source": [
    "# clear all the variables\n",
    "%reset -f"
   ]
  },
  {
   "cell_type": "markdown",
   "metadata": {
    "deletable": true,
    "editable": true
   },
   "source": [
    "## The Black-Scholes PDE\n",
    "\n",
    "Starting from the stochastic differential equation for the underlying\n",
    "$$dS_t = S_t\\mu dt + S_t\\sigma dW_t$$\n",
    "\n",
    "Under the risk-neutral measure, one can set $\\mu = r$. Hence, we have for any function $V(S_t, t)$\n",
    "\\begin{align}\n",
    "dV(S_t, t) & = \\frac{\\partial V}{\\partial t}dt + \\frac{\\partial V}{\\partial S_t}dS_t + \\frac{1}{2}\\frac{\\partial^2 V}{\\partial S_t^2}dS_tdS_t\\\\\n",
    "& = \\frac{\\partial V}{\\partial t}dt + \\frac{\\partial V}{\\partial S_t}\\left[S_t r dt + S_t\\sigma dW_t\\right] + \\frac{1}{2}\\frac{\\partial^2 V}{\\partial S_t^2}S^2_t\\sigma^2\\left<dW_t, dW_t\\right>\\\\\n",
    "& = \\frac{\\partial V}{\\partial t}dt + \\frac{\\partial V}{\\partial S_t}\\left[S_t r dt + S_t\\sigma dW_t\\right] + \\frac{1}{2}\\frac{\\partial^2 V}{\\partial S_t^2}S^2_t\\sigma^2 dt\\\\\n",
    "& = \\left[\\frac{\\partial V}{\\partial t} + \\frac{1}{2}\\sigma^2 S^2\\frac{\\partial^2 V}{\\partial S_t^2} + r S_t \\frac{\\partial V}{\\partial S_t}\\right] dt + \\frac{\\partial V}{\\partial S_t}S_t\\sigma dW_t\n",
    "\\end{align}\n",
    "(...) hence the process $V(S_t, t)$ is a Markov process if and only if\n",
    "$$\\frac{\\partial V}{\\partial t}(S_t, t) + \\frac{1}{2}\\sigma^2 S^2\\frac{\\partial^2 V}{\\partial S_t^2}(S_t, t) + rS\\frac{\\partial V}{\\partial S_t}(S_t, t) - rV(S_t,t) = 0$$\n",
    "Which is the **The Black-Scholes equation**.\n",
    "\n",
    "In particular, for a european call C with initial price $C_0$, strike K, the boundary conditions are \n",
    "\\begin{align}\n",
    "C(S,0) & = C_0\\\\\n",
    "C(S, T) & = \\max(S-K, 0)\\\\\n",
    "C(0, t) & = C(0, T) = 0, t>0\\\\\n",
    "\\lim_{S\\rightarrow \\infty} C(S, t) & = S-K\\exp(-r(T-t)), t>0\n",
    "\\end{align}"
   ]
  },
  {
   "cell_type": "markdown",
   "metadata": {
    "deletable": true,
    "editable": true
   },
   "source": [
    "## Change of variables\n",
    "\n",
    "It is possible to simplify the problem above by defining the following variables:\n",
    "\n",
    "\\begin{align}\n",
    "x & \\equiv \\log s + \\left(r - \\frac{1}{2}\\sigma^2\\right)(T-t)\\\\\n",
    "\\tau & \\equiv \\frac{\\sigma^2}{2}(T-t) = 0, \\hspace{2em} t>0\\\\\n",
    "y(x, \\tau) & \\equiv e^{-r\\left(T-\\frac{2\\tau}{\\sigma^2}\\right)}V\\left(e^{x-\\tau\\left(\\frac{2\\tau}{\\sigma^2}-1\\right)}, T-\\frac{2\\tau}{\\sigma^2}\\right)\n",
    "\\end{align}\n",
    "\n",
    "   Then the Black-Scholes PDE is transformed into the **heat equation**\n",
    "\\begin{equation}\n",
    "\\frac{\\partial y}{\\partial \\tau}(x, \\tau) - \\frac{\\partial^2 y}{\\partial x^2}(x, \\tau) = 0 \n",
    "\\end{equation}   \n",
    "\n",
    "   Under those transformations,the PDE turns into a backward PDE defined on $(\\tau, x)\\in \\left(0, \\frac{\\sigma^2}{2}T\\right)\\times\\mathbb R$ the bondary conditions for an european call option turns into:\n",
    "\\begin{align}\n",
    "y\\left(x, \\frac{\\sigma^2}{2}T\\right) & = C_0\\\\\n",
    "y(x, 0) & = e^{-rT}\\max(e^x-K, 0)\\\\\n",
    "\\lim_{x\\rightarrow -\\infty} y(x, \\tau) & = e^{-rT}\\max(0-K, 0) = 0, \\hspace{2em} t>0\\\\\n",
    "\\lim_{S\\rightarrow \\infty} C(S, t) & = S-K\\exp(-r(T-t)), \\hspace{2em} t>0\n",
    "\\end{align}"
   ]
  },
  {
   "cell_type": "code",
   "execution_count": null,
   "metadata": {
    "collapsed": true,
    "deletable": true,
    "editable": true
   },
   "outputs": [],
   "source": []
  }
 ],
 "metadata": {
  "anaconda-cloud": {},
  "kernelspec": {
   "display_name": "Python 2",
   "language": "python",
   "name": "python2"
  },
  "language_info": {
   "codemirror_mode": {
    "name": "ipython",
    "version": 2
   },
   "file_extension": ".py",
   "mimetype": "text/x-python",
   "name": "python",
   "nbconvert_exporter": "python",
   "pygments_lexer": "ipython2",
   "version": "2.7.11"
  }
 },
 "nbformat": 4,
 "nbformat_minor": 1
}

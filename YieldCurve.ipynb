{
 "cells": [
  {
   "cell_type": "code",
   "execution_count": 1,
   "metadata": {
    "collapsed": false
   },
   "outputs": [],
   "source": [
    "# cleanup\n",
    "%reset -f"
   ]
  },
  {
   "cell_type": "code",
   "execution_count": 2,
   "metadata": {
    "collapsed": false
   },
   "outputs": [],
   "source": [
    "import numpy as np\n",
    "import QuantLib as ql\n",
    "import matplotlib.pyplot as plt"
   ]
  },
  {
   "cell_type": "code",
   "execution_count": 3,
   "metadata": {
    "collapsed": false
   },
   "outputs": [],
   "source": [
    "# Set Evaluation Date\n",
    "today = ql.Date(31,3,2015)\n",
    "ql.Settings.instance().setEvaluationDate(today)\n",
    "calendar = ql.UnitedStates()\n",
    "\n",
    "# handles\n",
    "discCurveHdl = ql.RelinkableYieldTermStructureHandle()\n",
    "fwdCurveHdl = ql.RelinkableYieldTermStructureHandle()\n",
    "\n",
    "# ibor index\n",
    "euribor6m = ql.Euribor6M(fwdCurveHdl)\n",
    "eonia = ql.Eonia(discCurveHdl)"
   ]
  },
  {
   "cell_type": "code",
   "execution_count": 4,
   "metadata": {
    "collapsed": false
   },
   "outputs": [],
   "source": [
    "# ois curve\n",
    "eoniaHelper = ql.DepositRateHelper(\n",
    "                    ql.QuoteHandle(ql.SimpleQuote(0.015)),\n",
    "                    ql.Period(1, ql.Days),\n",
    "                    0, calendar,\n",
    "                    ql.Following,\n",
    "                    True,\n",
    "                    ql.Actual360())\n",
    "\n",
    "oisSwapHandles = list(map(lambda x: ql.QuoteHandle(x), \n",
    "                    [\n",
    "                        ql.SimpleQuote(0.025),\n",
    "                        ql.SimpleQuote(0.028),\n",
    "                        ql.SimpleQuote(0.03),\n",
    "                        ql.SimpleQuote(0.034),\n",
    "                        ql.SimpleQuote(0.038),\n",
    "                        ql.SimpleQuote(0.039),\n",
    "                        ql.SimpleQuote(0.040),\n",
    "                        ql.SimpleQuote(0.043)\n",
    "                    ]))\n",
    "\n",
    "oisSwapTerms = \\\n",
    "[\n",
    "    ql.Period(2, ql.Weeks),\n",
    "    ql.Period(1, ql.Months),\n",
    "    ql.Period(6, ql.Months),\n",
    "    ql.Period(1, ql.Years),\n",
    "    ql.Period(5, ql.Years),\n",
    "    ql.Period(10, ql.Years),\n",
    "    ql.Period(15, ql.Years),\n",
    "    ql.Period(20, ql.Years)\n",
    "]\n",
    "\n",
    "oisSwapHelpers = [ql.OISRateHelper(\n",
    "                    2, m, q,\n",
    "                    eonia)\n",
    "                for q, m in zip(oisSwapHandles, oisSwapTerms)]\n",
    "\n",
    "# Setup the discount curve\n",
    "discCurve = ql.PiecewiseLogCubicDiscount(today, [eoniaHelper] + oisSwapHelpers, ql.Actual365Fixed())\n",
    "discCurve.enableExtrapolation()\n",
    "discCurveHdl.linkTo(discCurve)"
   ]
  },
  {
   "cell_type": "code",
   "execution_count": 5,
   "metadata": {
    "collapsed": false
   },
   "outputs": [],
   "source": [
    "# swap curve\n",
    "depositHandles = list(map(lambda x: ql.QuoteHandle(x), \n",
    "                    [\n",
    "                        ql.SimpleQuote(0.027),\n",
    "                        ql.SimpleQuote(0.029),\n",
    "                        ql.SimpleQuote(0.03),\n",
    "                        ql.SimpleQuote(0.034),\n",
    "                        ql.SimpleQuote(0.036), \n",
    "                        ql.SimpleQuote(0.038)\n",
    "                    ]))\n",
    "\n",
    "swapHandles = list(map(lambda x: ql.QuoteHandle(x), \n",
    "                    [\n",
    "                        ql.SimpleQuote(0.045),\n",
    "                        ql.SimpleQuote(0.048),\n",
    "                        ql.SimpleQuote(0.05),\n",
    "                        ql.SimpleQuote(0.054),\n",
    "                        ql.SimpleQuote(0.058),\n",
    "                        ql.SimpleQuote(0.059),\n",
    "                        ql.SimpleQuote(0.060)\n",
    "                    ]\n",
    "                    ))\n",
    "\n",
    "# terms\n",
    "depositTerms = \\\n",
    "[\n",
    "    ql.Period(1, ql.Days), # S/N\n",
    "    ql.Period(1, ql.Weeks),\n",
    "    ql.Period(1, ql.Months),\n",
    "    ql.Period(2, ql.Months),\n",
    "    ql.Period(3, ql.Months),\n",
    "    ql.Period(6, ql.Months)\n",
    "]\n",
    "\n",
    "futureTerms = \\\n",
    "[\n",
    "    ql.Period(1, ql.Years),\n",
    "    ql.Period(2, ql.Years),\n",
    "    ql.Period(3, ql.Years),\n",
    "    ql.Period(5, ql.Years),\n",
    "    ql.Period(10, ql.Years),\n",
    "    ql.Period(15, ql.Years),\n",
    "    ql.Period(20, ql.Years)\n",
    "]\n",
    "\n",
    "swapTerms = \\\n",
    "[\n",
    "    ql.Period(1, ql.Years),\n",
    "    ql.Period(2, ql.Years),\n",
    "    ql.Period(3, ql.Years),\n",
    "    ql.Period(5, ql.Years),\n",
    "    ql.Period(10, ql.Years),\n",
    "    ql.Period(15, ql.Years),\n",
    "    ql.Period(20, ql.Years)\n",
    "]\n",
    "\n",
    "# helpers\n",
    "depositHelpers = [ql.DepositRateHelper(q, m,\n",
    "                     2,\n",
    "                     calendar,\n",
    "                     ql.Following,\n",
    "                     True,\n",
    "                     ql.Actual360())\n",
    "                for q, m in zip(depositHandles, depositTerms)]\n",
    "\n",
    "swapHelpers = [ql.SwapRateHelper(q, m,\n",
    "                     calendar,\n",
    "                     ql.Annual,\n",
    "                     ql.Unadjusted,\n",
    "                     ql.Thirty360(ql.Thirty360.European),\n",
    "                     euribor6m, ql.QuoteHandle(ql.Quote()), ql.Period(0, ql.Days), discCurveHdl)\n",
    "                for q, m in zip(swapHandles, swapTerms)]\n",
    "\n",
    "# Setup the yield termstructure\n",
    "fwdCurve = ql.PiecewiseLogCubicDiscount(today, depositHelpers + swapHelpers, ql.Actual365Fixed())\n",
    "fwdCurve.enableExtrapolation()\n",
    "fwdCurveHdl.linkTo(fwdCurve)"
   ]
  },
  {
   "cell_type": "code",
   "execution_count": 6,
   "metadata": {
    "collapsed": false
   },
   "outputs": [
    {
     "data": {
      "image/png": "[encoded data removed]",
      "text/plain": [
       "<matplotlib.figure.Figure at 0x1865392bfd0>"
      ]
     },
     "metadata": {},
     "output_type": "display_data"
    }
   ],
   "source": [
    "# plot the two curves\n",
    "dates = [today]\n",
    "\n",
    "while True:\n",
    "    dates.append(dates[-1] + ql.Period(5, ql.Days))\n",
    "    if dates[-1].serialNumber() >= (today + ql.Period(20, ql.Years)).serialNumber():\n",
    "        break\n",
    "\n",
    "discount = list(map(lambda x: 100 * discCurveHdl.forwardRate(x, x + ql.Period(5, ql.Days), \n",
    "                                        ql.Actual360(), ql.Simple, ql.Annual).rate(), dates))\n",
    "\n",
    "plt.plot(list(map(lambda x: (x.serialNumber() - today.serialNumber()) / 365.0, dates)), discount, 'b')\n",
    "\n",
    "forward = list(map(lambda x: 100 * fwdCurveHdl.forwardRate(x, x + ql.Period(5, ql.Days), \n",
    "                                        ql.Actual360(), ql.Simple, ql.Annual).rate(), dates))\n",
    "\n",
    "plt.plot(list(map(lambda x: (x.serialNumber() - today.serialNumber()) / 365.0, dates)), forward, 'r')\n",
    "\n",
    "plt.xlim(0., 20.0); plt.ylim(2.0, 7.0)\n",
    "plt.ylabel('instantaneous forward')\n",
    "plt.show()"
   ]
  },
  {
   "cell_type": "code",
   "execution_count": null,
   "metadata": {
    "collapsed": true
   },
   "outputs": [],
   "source": []
  }
 ],
 "metadata": {
  "anaconda-cloud": {},
  "kernelspec": {
   "display_name": "Python [conda root]",
   "language": "python",
   "name": "conda-root-py"
  },
  "language_info": {
   "codemirror_mode": {
    "name": "ipython",
    "version": 3
   },
   "file_extension": ".py",
   "mimetype": "text/x-python",
   "name": "python",
   "nbconvert_exporter": "python",
   "pygments_lexer": "ipython3",
   "version": "3.5.2"
  }
 },
 "nbformat": 4,
 "nbformat_minor": 1
}

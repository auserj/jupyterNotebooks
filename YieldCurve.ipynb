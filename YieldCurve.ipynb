{
 "cells": [
  {
   "cell_type": "code",
   "execution_count": 2,
   "metadata": {
    "collapsed": false
   },
   "outputs": [],
   "source": [
    "# cleanup\n",
    "%reset -f"
   ]
  },
  {
   "cell_type": "code",
   "execution_count": 3,
   "metadata": {
    "collapsed": true
   },
   "outputs": [],
   "source": [
    "import numpy as np\n",
    "import QuantLib as ql"
   ]
  },
  {
   "cell_type": "code",
   "execution_count": 33,
   "metadata": {
    "collapsed": false
   },
   "outputs": [
    {
     "ename": "NotImplementedError",
     "evalue": "Wrong number or type of arguments for overloaded function 'new_SwapRateHelper'.\n  Possible C/C++ prototypes are:\n    SwapRateHelperPtr::SwapRateHelperPtr(Handle< Quote > const &,Period const &,Calendar const &,Frequency,BusinessDayConvention,DayCounter const &,IborIndexPtr const &,Handle< Quote > const &,Period const &,Handle< YieldTermStructure > const &,Natural,Pillar::Choice,Date)\n    SwapRateHelperPtr::SwapRateHelperPtr(Handle< Quote > const &,Period const &,Calendar const &,Frequency,BusinessDayConvention,DayCounter const &,IborIndexPtr const &,Handle< Quote > const &,Period const &,Handle< YieldTermStructure > const &,Natural,Pillar::Choice)\n    SwapRateHelperPtr::SwapRateHelperPtr(Handle< Quote > const &,Period const &,Calendar const &,Frequency,BusinessDayConvention,DayCounter const &,IborIndexPtr const &,Handle< Quote > const &,Period const &,Handle< YieldTermStructure > const &,Natural)\n    SwapRateHelperPtr::SwapRateHelperPtr(Handle< Quote > const &,Period const &,Calendar const &,Frequency,BusinessDayConvention,DayCounter const &,IborIndexPtr const &,Handle< Quote > const &,Period const &,Handle< YieldTermStructure > const &)\n    SwapRateHelperPtr::SwapRateHelperPtr(Handle< Quote > const &,Period const &,Calendar const &,Frequency,BusinessDayConvention,DayCounter const &,IborIndexPtr const &,Handle< Quote > const &,Period const &)\n    SwapRateHelperPtr::SwapRateHelperPtr(Handle< Quote > const &,Period const &,Calendar const &,Frequency,BusinessDayConvention,DayCounter const &,IborIndexPtr const &,Handle< Quote > const &)\n    SwapRateHelperPtr::SwapRateHelperPtr(Handle< Quote > const &,Period const &,Calendar const &,Frequency,BusinessDayConvention,DayCounter const &,IborIndexPtr const &)\n    SwapRateHelperPtr::SwapRateHelperPtr(Rate,Period const &,Calendar const &,Frequency,BusinessDayConvention,DayCounter const &,IborIndexPtr const &,Handle< Quote > const &,Period const &,Handle< YieldTermStructure > const &,Natural,Pillar::Choice,Date)\n    SwapRateHelperPtr::SwapRateHelperPtr(Rate,Period const &,Calendar const &,Frequency,BusinessDayConvention,DayCounter const &,IborIndexPtr const &,Handle< Quote > const &,Period const &,Handle< YieldTermStructure > const &,Natural,Pillar::Choice)\n    SwapRateHelperPtr::SwapRateHelperPtr(Rate,Period const &,Calendar const &,Frequency,BusinessDayConvention,DayCounter const &,IborIndexPtr const &,Handle< Quote > const &,Period const &,Handle< YieldTermStructure > const &,Natural)\n    SwapRateHelperPtr::SwapRateHelperPtr(Rate,Period const &,Calendar const &,Frequency,BusinessDayConvention,DayCounter const &,IborIndexPtr const &,Handle< Quote > const &,Period const &,Handle< YieldTermStructure > const &)\n    SwapRateHelperPtr::SwapRateHelperPtr(Rate,Period const &,Calendar const &,Frequency,BusinessDayConvention,DayCounter const &,IborIndexPtr const &,Handle< Quote > const &,Period const &)\n    SwapRateHelperPtr::SwapRateHelperPtr(Rate,Period const &,Calendar const &,Frequency,BusinessDayConvention,DayCounter const &,IborIndexPtr const &,Handle< Quote > const &)\n    SwapRateHelperPtr::SwapRateHelperPtr(Rate,Period const &,Calendar const &,Frequency,BusinessDayConvention,DayCounter const &,IborIndexPtr const &)\n    SwapRateHelperPtr::SwapRateHelperPtr(Handle< Quote > const &,SwapIndexPtr const &,Handle< Quote > const &,Period const &,Handle< YieldTermStructure > const &,Pillar::Choice,Date)\n    SwapRateHelperPtr::SwapRateHelperPtr(Handle< Quote > const &,SwapIndexPtr const &,Handle< Quote > const &,Period const &,Handle< YieldTermStructure > const &,Pillar::Choice)\n    SwapRateHelperPtr::SwapRateHelperPtr(Handle< Quote > const &,SwapIndexPtr const &,Handle< Quote > const &,Period const &,Handle< YieldTermStructure > const &)\n    SwapRateHelperPtr::SwapRateHelperPtr(Handle< Quote > const &,SwapIndexPtr const &,Handle< Quote > const &,Period const &)\n    SwapRateHelperPtr::SwapRateHelperPtr(Handle< Quote > const &,SwapIndexPtr const &,Handle< Quote > const &)\n    SwapRateHelperPtr::SwapRateHelperPtr(Handle< Quote > const &,SwapIndexPtr const &)\n    SwapRateHelperPtr::SwapRateHelperPtr(Rate,SwapIndexPtr const &,Handle< Quote > const &,Period const &,Handle< YieldTermStructure > const &,Pillar::Choice,Date)\n    SwapRateHelperPtr::SwapRateHelperPtr(Rate,SwapIndexPtr const &,Handle< Quote > const &,Period const &,Handle< YieldTermStructure > const &,Pillar::Choice)\n    SwapRateHelperPtr::SwapRateHelperPtr(Rate,SwapIndexPtr const &,Handle< Quote > const &,Period const &,Handle< YieldTermStructure > const &)\n    SwapRateHelperPtr::SwapRateHelperPtr(Rate,SwapIndexPtr const &,Handle< Quote > const &,Period const &)\n    SwapRateHelperPtr::SwapRateHelperPtr(Rate,SwapIndexPtr const &,Handle< Quote > const &)\n    SwapRateHelperPtr::SwapRateHelperPtr(Rate,SwapIndexPtr const &)\n",
     "output_type": "error",
     "traceback": [
      "\u001b[0;31m---------------------------------------------------------------------------\u001b[0m",
      "\u001b[0;31mNotImplementedError\u001b[0m                       Traceback (most recent call last)",
      "\u001b[0;32m<ipython-input-33-c302c45b277b>\u001b[0m in \u001b[0;36m<module>\u001b[0;34m()\u001b[0m\n\u001b[1;32m     49\u001b[0m                      \u001b[1;32mTrue\u001b[0m\u001b[1;33m,\u001b[0m\u001b[1;33m\u001b[0m\u001b[0m\n\u001b[1;32m     50\u001b[0m                      ql.Actual360())\n\u001b[0;32m---> 51\u001b[0;31m                 for q, m in zip(depositHandles, depositTerms)]\n\u001b[0m\u001b[1;32m     52\u001b[0m \u001b[1;33m\u001b[0m\u001b[0m\n\u001b[1;32m     53\u001b[0m \u001b[1;33m\u001b[0m\u001b[0m\n",
      "\u001b[0;32m<ipython-input-33-c302c45b277b>\u001b[0m in \u001b[0;36m<listcomp>\u001b[0;34m(.0)\u001b[0m\n\u001b[1;32m     49\u001b[0m                      \u001b[1;32mTrue\u001b[0m\u001b[1;33m,\u001b[0m\u001b[1;33m\u001b[0m\u001b[0m\n\u001b[1;32m     50\u001b[0m                      ql.Actual360())\n\u001b[0;32m---> 51\u001b[0;31m                 for q, m in zip(depositHandles, depositTerms)]\n\u001b[0m\u001b[1;32m     52\u001b[0m \u001b[1;33m\u001b[0m\u001b[0m\n\u001b[1;32m     53\u001b[0m \u001b[1;33m\u001b[0m\u001b[0m\n",
      "\u001b[0;32mC:\\Anaconda3\\lib\\site-packages\\QuantLib\\QuantLib.py\u001b[0m in \u001b[0;36m__init__\u001b[0;34m(self, *args)\u001b[0m\n\u001b[1;32m  15462\u001b[0m \u001b[1;33m\u001b[0m\u001b[0m\n\u001b[1;32m  15463\u001b[0m     \u001b[1;32mdef\u001b[0m \u001b[0m__init__\u001b[0m\u001b[1;33m(\u001b[0m\u001b[0mself\u001b[0m\u001b[1;33m,\u001b[0m \u001b[1;33m*\u001b[0m\u001b[0margs\u001b[0m\u001b[1;33m)\u001b[0m\u001b[1;33m:\u001b[0m\u001b[1;33m\u001b[0m\u001b[0m\n\u001b[0;32m> 15464\u001b[0;31m         \u001b[0mthis\u001b[0m \u001b[1;33m=\u001b[0m \u001b[0m_QuantLib\u001b[0m\u001b[1;33m.\u001b[0m\u001b[0mnew_SwapRateHelper\u001b[0m\u001b[1;33m(\u001b[0m\u001b[1;33m*\u001b[0m\u001b[0margs\u001b[0m\u001b[1;33m)\u001b[0m\u001b[1;33m\u001b[0m\u001b[0m\n\u001b[0m\u001b[1;32m  15465\u001b[0m         \u001b[1;32mtry\u001b[0m\u001b[1;33m:\u001b[0m\u001b[1;33m\u001b[0m\u001b[0m\n\u001b[1;32m  15466\u001b[0m             \u001b[0mself\u001b[0m\u001b[1;33m.\u001b[0m\u001b[0mthis\u001b[0m\u001b[1;33m.\u001b[0m\u001b[0mappend\u001b[0m\u001b[1;33m(\u001b[0m\u001b[0mthis\u001b[0m\u001b[1;33m)\u001b[0m\u001b[1;33m\u001b[0m\u001b[0m\n",
      "\u001b[0;31mNotImplementedError\u001b[0m: Wrong number or type of arguments for overloaded function 'new_SwapRateHelper'.\n  Possible C/C++ prototypes are:\n    SwapRateHelperPtr::SwapRateHelperPtr(Handle< Quote > const &,Period const &,Calendar const &,Frequency,BusinessDayConvention,DayCounter const &,IborIndexPtr const &,Handle< Quote > const &,Period const &,Handle< YieldTermStructure > const &,Natural,Pillar::Choice,Date)\n    SwapRateHelperPtr::SwapRateHelperPtr(Handle< Quote > const &,Period const &,Calendar const &,Frequency,BusinessDayConvention,DayCounter const &,IborIndexPtr const &,Handle< Quote > const &,Period const &,Handle< YieldTermStructure > const &,Natural,Pillar::Choice)\n    SwapRateHelperPtr::SwapRateHelperPtr(Handle< Quote > const &,Period const &,Calendar const &,Frequency,BusinessDayConvention,DayCounter const &,IborIndexPtr const &,Handle< Quote > const &,Period const &,Handle< YieldTermStructure > const &,Natural)\n    SwapRateHelperPtr::SwapRateHelperPtr(Handle< Quote > const &,Period const &,Calendar const &,Frequency,BusinessDayConvention,DayCounter const &,IborIndexPtr const &,Handle< Quote > const &,Period const &,Handle< YieldTermStructure > const &)\n    SwapRateHelperPtr::SwapRateHelperPtr(Handle< Quote > const &,Period const &,Calendar const &,Frequency,BusinessDayConvention,DayCounter const &,IborIndexPtr const &,Handle< Quote > const &,Period const &)\n    SwapRateHelperPtr::SwapRateHelperPtr(Handle< Quote > const &,Period const &,Calendar const &,Frequency,BusinessDayConvention,DayCounter const &,IborIndexPtr const &,Handle< Quote > const &)\n    SwapRateHelperPtr::SwapRateHelperPtr(Handle< Quote > const &,Period const &,Calendar const &,Frequency,BusinessDayConvention,DayCounter const &,IborIndexPtr const &)\n    SwapRateHelperPtr::SwapRateHelperPtr(Rate,Period const &,Calendar const &,Frequency,BusinessDayConvention,DayCounter const &,IborIndexPtr const &,Handle< Quote > const &,Period const &,Handle< YieldTermStructure > const &,Natural,Pillar::Choice,Date)\n    SwapRateHelperPtr::SwapRateHelperPtr(Rate,Period const &,Calendar const &,Frequency,BusinessDayConvention,DayCounter const &,IborIndexPtr const &,Handle< Quote > const &,Period const &,Handle< YieldTermStructure > const &,Natural,Pillar::Choice)\n    SwapRateHelperPtr::SwapRateHelperPtr(Rate,Period const &,Calendar const &,Frequency,BusinessDayConvention,DayCounter const &,IborIndexPtr const &,Handle< Quote > const &,Period const &,Handle< YieldTermStructure > const &,Natural)\n    SwapRateHelperPtr::SwapRateHelperPtr(Rate,Period const &,Calendar const &,Frequency,BusinessDayConvention,DayCounter const &,IborIndexPtr const &,Handle< Quote > const &,Period const &,Handle< YieldTermStructure > const &)\n    SwapRateHelperPtr::SwapRateHelperPtr(Rate,Period const &,Calendar const &,Frequency,BusinessDayConvention,DayCounter const &,IborIndexPtr const &,Handle< Quote > const &,Period const &)\n    SwapRateHelperPtr::SwapRateHelperPtr(Rate,Period const &,Calendar const &,Frequency,BusinessDayConvention,DayCounter const &,IborIndexPtr const &,Handle< Quote > const &)\n    SwapRateHelperPtr::SwapRateHelperPtr(Rate,Period const &,Calendar const &,Frequency,BusinessDayConvention,DayCounter const &,IborIndexPtr const &)\n    SwapRateHelperPtr::SwapRateHelperPtr(Handle< Quote > const &,SwapIndexPtr const &,Handle< Quote > const &,Period const &,Handle< YieldTermStructure > const &,Pillar::Choice,Date)\n    SwapRateHelperPtr::SwapRateHelperPtr(Handle< Quote > const &,SwapIndexPtr const &,Handle< Quote > const &,Period const &,Handle< YieldTermStructure > const &,Pillar::Choice)\n    SwapRateHelperPtr::SwapRateHelperPtr(Handle< Quote > const &,SwapIndexPtr const &,Handle< Quote > const &,Period const &,Handle< YieldTermStructure > const &)\n    SwapRateHelperPtr::SwapRateHelperPtr(Handle< Quote > const &,SwapIndexPtr const &,Handle< Quote > const &,Period const &)\n    SwapRateHelperPtr::SwapRateHelperPtr(Handle< Quote > const &,SwapIndexPtr const &,Handle< Quote > const &)\n    SwapRateHelperPtr::SwapRateHelperPtr(Handle< Quote > const &,SwapIndexPtr const &)\n    SwapRateHelperPtr::SwapRateHelperPtr(Rate,SwapIndexPtr const &,Handle< Quote > const &,Period const &,Handle< YieldTermStructure > const &,Pillar::Choice,Date)\n    SwapRateHelperPtr::SwapRateHelperPtr(Rate,SwapIndexPtr const &,Handle< Quote > const &,Period const &,Handle< YieldTermStructure > const &,Pillar::Choice)\n    SwapRateHelperPtr::SwapRateHelperPtr(Rate,SwapIndexPtr const &,Handle< Quote > const &,Period const &,Handle< YieldTermStructure > const &)\n    SwapRateHelperPtr::SwapRateHelperPtr(Rate,SwapIndexPtr const &,Handle< Quote > const &,Period const &)\n    SwapRateHelperPtr::SwapRateHelperPtr(Rate,SwapIndexPtr const &,Handle< Quote > const &)\n    SwapRateHelperPtr::SwapRateHelperPtr(Rate,SwapIndexPtr const &)\n"
     ]
    }
   ],
   "source": [
    "# Set Evaluation Date\n",
    "today = ql.Date(31,3,2015)\n",
    "ql.Settings.instance().setEvaluationDate(today)\n",
    "calendar = ql.UnitedStates()\n",
    "\n",
    "# handles\n",
    "depositHandles = list(map(lambda x: ql.QuoteHandle(x), \n",
    "                    [\n",
    "                        ql.SimpleQuote(0.03),\n",
    "                        ql.SimpleQuote(0.035),\n",
    "                        ql.SimpleQuote(0.038), \n",
    "                        ql.SimpleQuote(0.041)\n",
    "                    ]))\n",
    "\n",
    "swapHandles = list(map(lambda x: ql.QuoteHandle(x), \n",
    "                    [\n",
    "                        ql.SimpleQuote(0.045),\n",
    "                        ql.SimpleQuote(0.048),\n",
    "                        ql.SimpleQuote(0.05),\n",
    "                        ql.SimpleQuote(0.054)\n",
    "                    ]\n",
    "                    ))\n",
    "\n",
    "# terms\n",
    "depositTerms = \\\n",
    "[\n",
    "    ql.Period(1, ql.Months),\n",
    "    ql.Period(2, ql.Months),\n",
    "    ql.Period(3, ql.Months),\n",
    "    ql.Period(6, ql.Months)\n",
    "]\n",
    "\n",
    "swapTerms = \\\n",
    "[\n",
    "    ql.Period(1, ql.Years),\n",
    "    ql.Period(2, ql.Years),\n",
    "    ql.Period(3, ql.Years),\n",
    "    ql.Period(5, ql.Years)\n",
    "]\n",
    "\n",
    "# helpers\n",
    "depositHelpers = [ql.DepositRateHelper(q, m,\n",
    "                     2,\n",
    "                     calendar,\n",
    "                     ql.Following,\n",
    "                     True,\n",
    "                     ql.Actual360())\n",
    "                for q, m in zip(depositHandles, depositTerms)]\n",
    "\n",
    "swapHelpers = [ql.SwapRateHelper(q, m,\n",
    "                     calendar,\n",
    "                     ql.Following,\n",
    "                     True,\n",
    "                     ql.Actual360())\n",
    "                for q, m in zip(swapHandles, swapTerms)]\n",
    "\n",
    "\n",
    "# Setup the yield termstructure\n",
    "disc_curve = ql.PiecewiseLogCubicDiscount(today, depositHelpers, ql.Actual365Fixed())\n",
    "disc_curve.enableExtrapolation()\n",
    "yts = ql.YieldTermStructureHandle(disc_curve)"
   ]
  },
  {
   "cell_type": "code",
   "execution_count": 31,
   "metadata": {
    "collapsed": false
   },
   "outputs": [
    {
     "name": "stdout",
     "output_type": "stream",
     "text": [
      "3.994245 % Actual/365 (Fixed) continuous compounding\n"
     ]
    }
   ],
   "source": [
    "zero = yts.forwardRate(today + ql.Period(1, ql.Months), today + ql.Period(2, ql.Months), ql.Actual365Fixed(), ql.Continuous, ql.Annual)\n",
    "print(zero)"
   ]
  },
  {
   "cell_type": "code",
   "execution_count": null,
   "metadata": {
    "collapsed": true
   },
   "outputs": [],
   "source": []
  }
 ],
 "metadata": {
  "anaconda-cloud": {},
  "kernelspec": {
   "display_name": "Python [conda root]",
   "language": "python",
   "name": "conda-root-py"
  },
  "language_info": {
   "codemirror_mode": {
    "name": "ipython",
    "version": 3
   },
   "file_extension": ".py",
   "mimetype": "text/x-python",
   "name": "python",
   "nbconvert_exporter": "python",
   "pygments_lexer": "ipython3",
   "version": "3.5.2"
  }
 },
 "nbformat": 4,
 "nbformat_minor": 1
}

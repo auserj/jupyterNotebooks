{
 "cells": [
  {
   "cell_type": "code",
   "execution_count": 12,
   "metadata": {
    "collapsed": false,
    "deletable": true,
    "editable": true
   },
   "outputs": [],
   "source": [
    "# clear all the variables\n",
    "%reset -f\n",
    "\n",
    "import os\n",
    "import IPython as ip\n",
    "import logging\n",
    "\n",
    "logger = logging.getLogger('scrapy-tutorial')\n",
    "logger.setLevel(logging.INFO)"
   ]
  },
  {
   "cell_type": "code",
   "execution_count": 8,
   "metadata": {
    "collapsed": false,
    "deletable": true,
    "editable": true
   },
   "outputs": [],
   "source": [
    "# import the relevant libraries\n",
    "import scrapy\n",
    "import re\n",
    "import json\n",
    "\n",
    "from bs4 import BeautifulSoup\n",
    "from scrapy.http import FormRequest, Request\n",
    "from scrapy.crawler import CrawlerProcess \n",
    "\n",
    "# for debugging, uncomment the following line\n",
    "#from IPython.core.debugger import Tracer as tr\n",
    "# to call trace, tr()()"
   ]
  },
  {
   "cell_type": "code",
   "execution_count": 9,
   "metadata": {
    "collapsed": false,
    "deletable": true,
    "editable": true
   },
   "outputs": [],
   "source": [
    "# the connect spider definition\n",
    "class loginSpider(scrapy.Spider):\n",
    "    name = 'kaggle_login'\n",
    "    website = 'https://www.kaggle.com/'\n",
    "    start_urls = [website + 'account/login?']\n",
    "    login = 'login'\n",
    "    pwd = 'mypassword'\n",
    "    path = 'C:\\\\Temp\\\\data\\\\'\n",
    "    \n",
    "    def parse(self, response):                \n",
    "        #self.debugPrint(response, filename='initial', append=False)        \n",
    "        token = response.css('input[name=__RequestVerificationToken]::attr(value)').extract_first()\n",
    "        \n",
    "        yield FormRequest.from_response(response, \n",
    "                                          formdata = {\n",
    "                                              'UserName' : self.login, \n",
    "                                              'Password': self.pwd,\n",
    "                                              '__RequestVerificationToken' : token\n",
    "                                              }, \n",
    "                                          callback = self.after_login)\n",
    "    \n",
    "    def after_login(self, response):\n",
    "        #self.debugPrint(response, filename='return', append=False)\n",
    "        \n",
    "        if 'The username or password provided is incorrect.' in response.body:\n",
    "            logging.error('Login failed')\n",
    "            return\n",
    "        else:\n",
    "            logging.info('Login succeed')\n",
    "\n",
    "            #self.debugPrint(response, filename='login successful', append=False)\n",
    "            \n",
    "            # connect to the main dataset webpage\n",
    "            yield Request(loginSpider.website + 'fivethirtyeight/uber-pickups-in-new-york-city',\n",
    "                           callback=self.connect_datasetPage)\n",
    "            \n",
    "    def connect_datasetPage(self, response):\n",
    "        #self.debugPrint(response, filename='datasets', append=False)\n",
    "        \n",
    "        # get the repo list\n",
    "        soup = BeautifulSoup(response.text, 'lxml')\n",
    "        find = soup.find_all('div', {'data-component-name' : 'DatasetContainer'})[0].next.contents[0]\n",
    "\n",
    "        # data\n",
    "        data = unicode(find).split(';')[2]\n",
    "        \n",
    "        # regex\n",
    "        p = re.compile(r'Kaggle.State.push\\((.*)\\)')\n",
    "        parsed = p.findall(data)\n",
    "        js = json.loads(parsed[0])\n",
    "        \n",
    "        # finally the url to download\n",
    "        url = loginSpider.website[:-1] + js['downloadUrl']\n",
    "\n",
    "        yield Request(url, callback=self.savePdf)\n",
    "        \n",
    "    def savePdf(self, response):\n",
    "        logging.info('zip file retrieved (size: {0}'.format('bla'))\n",
    "        \n",
    "    # for debugging\n",
    "    def debugPrint(self, message, filename = 'debug', append = False):\n",
    "        opt = None;\n",
    "        if append:\n",
    "            opt = 'a'\n",
    "        else:\n",
    "            opt = 'wb'\n",
    "            \n",
    "        with open('C:\\\\Temp\\\\' + filename + '.txt', opt) as f:\n",
    "            f.write(message.body)\n",
    "            f.close()"
   ]
  },
  {
   "cell_type": "code",
   "execution_count": null,
   "metadata": {
    "collapsed": false,
    "deletable": true,
    "editable": true
   },
   "outputs": [],
   "source": [
    "# set the proxy\n",
    "os.environ[\"http_proxy\"] = \"http://ip:port\"\n",
    "os.environ[\"https_proxy\"] = \"https://ip:port\"\n",
    "\n",
    "# set the logging policy\n",
    "logger = logging.getLogger('scrapy-loadZip')\n",
    "logger.setLevel(logging.INFO)\n",
    "\n",
    "process = CrawlerProcess({\n",
    "'USER_AGENT': 'Mozilla/4.0 (compatible; MSIE 7.0; Windows NT 5.1)'\n",
    "})\n",
    "\n",
    "sp = loginSpider()\n",
    "process.crawl(sp)\n",
    "process.start(stop_after_crawl=True)\n",
    "\n",
    "print('repo found: {0}'.format(loginSpider.result))"
   ]
  },
  {
   "cell_type": "code",
   "execution_count": 12,
   "metadata": {
    "collapsed": false,
    "deletable": true,
    "editable": true
   },
   "outputs": [
    {
     "data": {
      "text/plain": [
       "{'restart': False, 'status': 'ok'}"
      ]
     },
     "execution_count": 12,
     "metadata": {},
     "output_type": "execute_result"
    }
   ],
   "source": [
    "# terminate the kernel\n",
    "app = ip.Application.instance()\n",
    "app.kernel.do_shutdown(restart=False)"
   ]
  },
  {
   "cell_type": "code",
   "execution_count": null,
   "metadata": {
    "collapsed": true,
    "deletable": true,
    "editable": true
   },
   "outputs": [],
   "source": []
  }
 ],
 "metadata": {
  "anaconda-cloud": {},
  "kernelspec": {
   "display_name": "Python 2",
   "language": "python",
   "name": "python2"
  },
  "language_info": {
   "codemirror_mode": {
    "name": "ipython",
    "version": 2
   },
   "file_extension": ".py",
   "mimetype": "text/x-python",
   "name": "python",
   "nbconvert_exporter": "python",
   "pygments_lexer": "ipython2",
   "version": "2.7.11"
  }
 },
 "nbformat": 4,
 "nbformat_minor": 1
}

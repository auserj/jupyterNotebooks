{
 "cells": [
  {
   "cell_type": "code",
   "execution_count": 144,
   "metadata": {
    "collapsed": false,
    "deletable": true,
    "editable": true
   },
   "outputs": [],
   "source": [
    "# clear all the variables\n",
    "%reset -f"
   ]
  },
  {
   "cell_type": "code",
   "execution_count": 145,
   "metadata": {
    "collapsed": false,
    "deletable": true,
    "editable": true
   },
   "outputs": [],
   "source": [
    "# import the relevant libraries\n",
    "import numpy as np\n",
    "import matplotlib.pyplot as plt\n",
    "from scipy.stats import norm\n",
    "\n",
    "# for debugging. To call trace, tr()()\n",
    "#from IPython.core.debugger import Tracer as tr"
   ]
  },
  {
   "cell_type": "code",
   "execution_count": 146,
   "metadata": {
    "collapsed": false,
    "deletable": true,
    "editable": true
   },
   "outputs": [],
   "source": [
    "# define function to compute [rate, vol] trajectories according to \n",
    "# SABR stochastic equations  \n",
    "def computeSABR(beta, eta, rho, t_max = 1, dt = 0.01, X0 = [0.01, 0.001]):\n",
    "\n",
    "    # model contraint\n",
    "    assert beta <= 1 and beta >= 0 \n",
    "    assert X0[0] > 0\n",
    "    assert X0[1] > 0\n",
    "    \n",
    "    # create correlated BM trajectories\n",
    "    N = round(t_max/dt)\n",
    "    dW = np.sqrt(dt) * np.random.multivariate_normal([0, 0], [[1, rho], [rho, 1]], size = int(N))\n",
    "    \n",
    "    # apply the SABR model stochastic equations\n",
    "    X = []\n",
    "    X.append(np.array(X0))\n",
    "    T = [0.0]\n",
    "\n",
    "    for dw in dW:\n",
    "        da = eta * X[-1][1] * dw[1]\n",
    "        df = X[-1][0] * (X[-1][1] + da)**beta * dw[0]\n",
    "        T.append(T[-1] + dt)\n",
    "        X.append(np.array([df, da]) + X[-1])\n",
    "    \n",
    "    return [T, X]"
   ]
  },
  {
   "cell_type": "code",
   "execution_count": 147,
   "metadata": {
    "collapsed": false,
    "deletable": true,
    "editable": true
   },
   "outputs": [],
   "source": [
    "# model setup\n",
    "nSimul = 2000\n",
    "T      = 1\n",
    "beta   = 0.7\n",
    "eta    = 0.01\n",
    "rho    = 0.6\n",
    "dt     = 0.001\n",
    "f_0    = 0.03\n",
    "a_0    = 0.01"
   ]
  },
  {
   "cell_type": "code",
   "execution_count": 148,
   "metadata": {
    "collapsed": true,
    "deletable": true,
    "editable": true
   },
   "outputs": [],
   "source": [
    "# prepare graph object\n",
    "fig = plt.figure(figsize=(10, 8))\n",
    "ax11 = fig.add_subplot(221)\n",
    "ax12 = fig.add_subplot(222)"
   ]
  },
  {
   "cell_type": "code",
   "execution_count": 149,
   "metadata": {
    "collapsed": false,
    "deletable": true,
    "editable": true
   },
   "outputs": [],
   "source": [
    "# create the simulated paths\n",
    "rate = []; vol = []\n",
    "\n",
    "t  = None\n",
    "X  = None\n",
    "V  = None\n",
    "dW = None\n",
    "\n",
    "for t in range(0,nSimul):\n",
    "    [t, X] = computeSABR(beta, eta, rho, T, dt, [f_0, a_0])\n",
    "    rate = rate + ax11.plot(t, list(map(lambda x : 100 * x[0].tolist(), X)))\n",
    "    vol = vol + ax12.plot(t, list(map(lambda x : 10000 * x[1].tolist(), X)))"
   ]
  },
  {
   "cell_type": "code",
   "execution_count": 150,
   "metadata": {
    "collapsed": false,
    "deletable": true,
    "editable": true
   },
   "outputs": [
    {
     "name": "stdout",
     "output_type": "stream",
     "text": [
      "[0.014596436711148022, 0.009742067779109187, 0.0048876988470703516, 0.00048830484775289377, 0.0, 0.0]\n"
     ]
    }
   ],
   "source": [
    "# compute histograms with terminal points distribution\n",
    "f = lambda x:x.get_ydata()[-1]\n",
    "rate_T = list(map(f, rate))\n",
    "vol_T = list(map(f, vol))\n",
    "\n",
    "# compute the price of a call option\n",
    "K = [1.5, 2.0, 2.5, 3.0, 3.5, 4.0]\n",
    "p_sim = [np.mean([max(r - k, 0) for r in rate_T]) / (1 + f_0) ** T / 100 for k in K]\n",
    "\n",
    "print(p_sim)"
   ]
  },
  {
   "cell_type": "code",
   "execution_count": 154,
   "metadata": {
    "collapsed": false
   },
   "outputs": [
    {
     "data": {
      "image/png": "[encoded data removed]",
      "text/plain": [
       "<matplotlib.figure.Figure at 0x28166f28>"
      ]
     },
     "metadata": {},
     "output_type": "display_data"
    }
   ],
   "source": [
    "plt.plot(K, p_sim)\n",
    "plt.show()"
   ]
  },
  {
   "cell_type": "code",
   "execution_count": 156,
   "metadata": {
    "collapsed": false,
    "deletable": true,
    "editable": true
   },
   "outputs": [
    {
     "name": "stderr",
     "output_type": "stream",
     "text": [
      "c:\\program files\\nomura\\fingal64\\python\\python27\\lib\\site-packages\\matplotlib\\figure.py:402: UserWarning: matplotlib is currently using a non-GUI backend, so cannot show the figure\n",
      "  \"matplotlib is currently using a non-GUI backend, \"\n"
     ]
    }
   ],
   "source": [
    "# create the associated graphs\n",
    "ax11.title.set_text(\"simulated rate paths\")\n",
    "ax11.set_xlabel(\"time\")\n",
    "ax11.set_ylabel(\"rate\")\n",
    "ax11.set_xlim([0, T])\n",
    "\n",
    "ax12.title.set_text(\"simulated vol paths\")\n",
    "ax12.set_xlabel(\"time\")\n",
    "ax12.set_ylabel(\"volatility\")\n",
    "ax12.set_xlim([0, T])\n",
    "ax12.yaxis.tick_right()\n",
    "ax12.yaxis.set_label_position(\"right\")\n",
    "\n",
    "# create the histogram\n",
    "ax21 = fig.add_subplot(223)\n",
    "ax22 = fig.add_subplot(224)\n",
    "\n",
    "binwidth = 0.01\n",
    "ax21.title.set_text(\"terminal rate distribution\")\n",
    "ax21.hist(rate_T, bins=np.arange(min(rate_T), max(rate_T) + binwidth, binwidth))\n",
    "ax21.set_xlabel(\"rate\")\n",
    "\n",
    "binwidth = 0.01\n",
    "ax22.title.set_text(\"terminal vol distribution\")\n",
    "ax22.hist(vol_T, bins=np.arange(min(vol_T), max(vol_T) + binwidth, binwidth))\n",
    "ax22.set_xlabel(\"volatility\")\n",
    "fig.tight_layout()\n",
    "plt.show()"
   ]
  },
  {
   "cell_type": "markdown",
   "metadata": {
    "collapsed": true,
    "deletable": true,
    "editable": true
   },
   "source": [
    "## The SABR formula\n",
    "Following Hagan and al., one may use singular perturbation techniques to generate an analytical form approximation of the impled volatility $\\sigma_B(f, K)$. The formula is given below:\n",
    "\n",
    "$$\n",
    "\\sigma_B(f, K) = \\frac{\\alpha}{(fK)^{(1-\\beta)/2}\\left\\{1+\\frac{(1-\\beta)^2}{24}\\log^2f/K+\\frac{(1-\\beta)^4}{1920}\\log^4f/K+\\ldots\\right\\}}\\left(\\frac{z}{\\aleph(z)}\\right)\\left\\{1+\\left[\\frac{(1-\\beta)^2}{24}\\frac{\\alpha^2}{(fK)^{1-\\beta}}+\\frac{1}{4}\\frac{\\rho\\beta\\nu\\alpha}{(fK)^{(1-\\beta)/2}} + \\frac{2-3\\rho^2}{24}\\nu^2\\right]t_{ex}+\\ldots\\right\\}\n",
    "$$\n",
    "\n",
    "where \n",
    "\n",
    "$$\n",
    "z = \\frac{\\nu}{\\alpha}(fK)^{(1-\\beta)/2}\\log f/K\n",
    "$$\n",
    "\n",
    "and $\\aleph(z)$ is defined by\n",
    "\n",
    "$$\n",
    "\\aleph(z) = \\log\\left\\{\\frac{\\sqrt{1-2\\rho z + z^2} + z - \\rho}{1-\\rho}\\right\\}\n",
    "$$\n",
    "\n",
    "here follow our implementation:"
   ]
  },
  {
   "cell_type": "code",
   "execution_count": 123,
   "metadata": {
    "collapsed": false,
    "deletable": true,
    "editable": true
   },
   "outputs": [],
   "source": [
    "def sigmaSabr(f, K, alpha, beta, rho, eta, t, T):\n",
    "    \n",
    "    print('params: f={0}, K = {1}, alpha={2}, beta={3}, rho={4}, eta={5}, T-t={6}'.format(\n",
    "        f, K, alpha, beta, rho, eta, T-t))\n",
    "          \n",
    "    def zFunc(f, K, alpha, beta, rho, eta):\n",
    "        return eta / alpha * (f * K) ** ((1-beta) / 2) * np.log(f * K)\n",
    "                \n",
    "    def aleph(z, rho):\n",
    "        \n",
    "        temp = (np.sqrt(1 - 2 * rho * z + z * z) + z - rho) / (1 - rho)\n",
    "        return np.log(temp)\n",
    "    \n",
    "    z = zFunc(f, K, alpha, beta, rho, eta)\n",
    "    \n",
    "    denum = np.log(f/K)\n",
    "    denum = 1 + (1 - beta) ** 2 / 24 * denum ** 2 + (1-beta) ** 4 / 1920 * denum ** 4\n",
    "    denum = (f * K) ** ((1-beta) / 2) * denum\n",
    "    \n",
    "    rhs = (f * K) ** (1-beta)\n",
    "    rhs = (1 - beta) ** 2 / 24 * alpha ** 2 / rhs + 0.25 * rho * beta * eta * alpha / np.sqrt(rhs) + (2-3 * rho ** 2) / 24 * eta ** 2\n",
    "    \n",
    "    return alpha / denum * z / aleph(z, rho) * (1 + rhs * (T-t))\n",
    "    "
   ]
  },
  {
   "cell_type": "code",
   "execution_count": 109,
   "metadata": {
    "collapsed": false,
    "deletable": true,
    "editable": true
   },
   "outputs": [
    {
     "name": "stdout",
     "output_type": "stream",
     "text": [
      "params: f=0.03, K = 0.015, alpha=0.001, beta=0.5, rho=0.6, eta=0.9, T-t=1\n",
      "params: f=0.03, K = 0.02, alpha=0.001, beta=0.5, rho=0.6, eta=0.9, T-t=1\n",
      "params: f=0.03, K = 0.025, alpha=0.001, beta=0.5, rho=0.6, eta=0.9, T-t=1\n",
      "params: f=0.03, K = 0.03, alpha=0.001, beta=0.5, rho=0.6, eta=0.9, T-t=1\n",
      "params: f=0.03, K = 0.035, alpha=0.001, beta=0.5, rho=0.6, eta=0.9, T-t=1\n",
      "params: f=0.03, K = 0.04, alpha=0.001, beta=0.5, rho=0.6, eta=0.9, T-t=1\n",
      "[0.99676911401874524, 0.95814656725224512, 0.92731466271745666, 0.90162264806478376, 0.87958781827894361, 0.86029337386196225]\n",
      "[1.6125171522498084e-06, 2.1671783251930094e-07, 3.3961395003850584e-08, 5.9378986679419229e-09, 1.1281711258728002e-09, 2.28928286029562e-10]\n"
     ]
    }
   ],
   "source": [
    "sig = [sigmaSabr(f_0, k / 100, a_0, beta, rho, eta, 0, T) for k in K]\n",
    "print(sig)\n",
    "param = zip(sig, K)\n",
    "def callBlack(sigma, f_0, K, t, T):\n",
    "    \n",
    "    from scipy.stats import norm\n",
    "    \n",
    "    denum = sigma * np.sqrt(T-t)\n",
    "    d_1 = np.log(f_0 / K)\n",
    "    d_2 = d_1 - 0.5 * sigma ** 2 * (T - t)\n",
    "    d_2 /= denum\n",
    "    d_1 = d_1 + 0.5 * sigma ** 2 * (T - t)\n",
    "    d_1 /= denum\n",
    "                           \n",
    "    return (1 + f_0) ** (-(T - t)) * f_0 * norm.cdf(d_1) - K * norm.cdf(d_2)\n",
    "\n",
    "res = [callBlack(p[0], f_0, p[1], 0, T) for p in param]\n",
    "print(res)"
   ]
  },
  {
   "cell_type": "code",
   "execution_count": null,
   "metadata": {
    "collapsed": true
   },
   "outputs": [],
   "source": []
  },
  {
   "cell_type": "code",
   "execution_count": null,
   "metadata": {
    "collapsed": true
   },
   "outputs": [],
   "source": []
  }
 ],
 "metadata": {
  "anaconda-cloud": {},
  "kernelspec": {
   "display_name": "Python 2",
   "language": "python",
   "name": "python2"
  },
  "language_info": {
   "codemirror_mode": {
    "name": "ipython",
    "version": 2
   },
   "file_extension": ".py",
   "mimetype": "text/x-python",
   "name": "python",
   "nbconvert_exporter": "python",
   "pygments_lexer": "ipython2",
   "version": "2.7.11"
  }
 },
 "nbformat": 4,
 "nbformat_minor": 1
}

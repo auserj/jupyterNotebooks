{
 "cells": [
  {
   "cell_type": "code",
   "execution_count": 12,
   "metadata": {
    "collapsed": false,
    "deletable": true,
    "editable": true
   },
   "outputs": [],
   "source": [
    "# clear all the variables\n",
    "%reset -f\n",
    "\n",
    "import os\n",
    "import IPython as ip\n",
    "import logging\n",
    "\n",
    "logger = logging.getLogger('scrapy-tutorial')\n",
    "logger.setLevel(logging.INFO)"
   ]
  },
  {
   "cell_type": "code",
   "execution_count": 8,
   "metadata": {
    "collapsed": false,
    "deletable": true,
    "editable": true
   },
   "outputs": [],
   "source": [
    "# import the relevant libraries\n",
    "import scrapy\n",
    "import re\n",
    "\n",
    "from bs4 import BeautifulSoup\n",
    "from scrapy.http import FormRequest, Request\n",
    "from scrapy.crawler import CrawlerProcess \n",
    "\n",
    "# for debugging, uncomment the following line\n",
    "#from IPython.core.debugger import Tracer as tr\n",
    "# to call trace, tr()()"
   ]
  },
  {
   "cell_type": "code",
   "execution_count": 9,
   "metadata": {
    "collapsed": false,
    "deletable": true,
    "editable": true
   },
   "outputs": [],
   "source": [
    "# the connect spider definition\n",
    "class loginSpider(scrapy.Spider):\n",
    "    name = 'github_login'\n",
    "    start_urls = ['https://github.com/login']\n",
    "    login = 'login'\n",
    "    pwd = 'pwd'\n",
    "    result = []\n",
    "    \n",
    "    def parse(self, response):\n",
    "        return [FormRequest.from_response(response, \n",
    "                                          formdata = {'login': self.login,   'password': self.pwd}, \n",
    "                                          callback = self.after_login)]\n",
    "    \n",
    "    def after_login(self, response):\n",
    "        if 'authentication failed' in response.body:\n",
    "            logging.error('Login failed')\n",
    "            pass\n",
    "        else:\n",
    "            logging.info('Login succeed')\n",
    "            return Request('https://github.com/' + self.login + '?tab=repositories', \n",
    "                       callback=self.parse_repo)\n",
    "            \n",
    "    def parse_repo(self, response):\n",
    "        \n",
    "        #self.debugPrint(response.body)\n",
    "        # get the repo list\n",
    "        soup = BeautifulSoup(response.text, 'lxml')\n",
    "        list = soup.find_all('li', {'class' : 'col-12 d-block width-full py-4 border-bottom public source'})\n",
    "        list = [l.find_all('div', {'class' : 'd-inline-block mb-1'})[0] for l in list]\n",
    "        list = [l.find_all('h3')[0] for l in list]\n",
    "        list = [l.find_all('a')[0].text for l in list]\n",
    "\n",
    "        [loginSpider.result.append(re.sub('\\s+',' ',l).encode('utf-8')) for l in list]\n",
    "        \n",
    "    def debugPrint(self, message):\n",
    "        with open(r'C:\\Temp\\debug.txt', 'a') as f:\n",
    "            f.write(message)\n",
    "            f.close()"
   ]
  },
  {
   "cell_type": "code",
   "execution_count": null,
   "metadata": {
    "collapsed": false,
    "deletable": true,
    "editable": true
   },
   "outputs": [],
   "source": [
    "# set the proxy\n",
    "os.environ[\"http_proxy\"] = \"http://ip:port\"\n",
    "os.environ[\"https_proxy\"] = \"https://ip:port\"\n",
    "\n",
    "# set the logging policy\n",
    "logger = logging.getLogger('scrapy-tutorial')\n",
    "logger.setLevel(logging.INFO)\n",
    "\n",
    "process = CrawlerProcess({\n",
    "'USER_AGENT': 'Mozilla/4.0 (compatible; MSIE 7.0; Windows NT 5.1)'\n",
    "})\n",
    "\n",
    "sp = loginSpider()\n",
    "process.crawl(sp)\n",
    "process.start(stop_after_crawl=True)\n",
    "\n",
    "print('repo found: {0}'.format(loginSpider.result))"
   ]
  },
  {
   "cell_type": "code",
   "execution_count": 12,
   "metadata": {
    "collapsed": false,
    "deletable": true,
    "editable": true
   },
   "outputs": [
    {
     "data": {
      "text/plain": [
       "{'restart': False, 'status': 'ok'}"
      ]
     },
     "execution_count": 12,
     "metadata": {},
     "output_type": "execute_result"
    }
   ],
   "source": [
    "# terminate the kernel\n",
    "app = ip.Application.instance()\n",
    "app.kernel.do_shutdown(restart=False)"
   ]
  },
  {
   "cell_type": "code",
   "execution_count": null,
   "metadata": {
    "collapsed": true,
    "deletable": true,
    "editable": true
   },
   "outputs": [],
   "source": []
  }
 ],
 "metadata": {
  "anaconda-cloud": {},
  "kernelspec": {
   "display_name": "Python 2",
   "language": "python",
   "name": "python2"
  },
  "language_info": {
   "codemirror_mode": {
    "name": "ipython",
    "version": 2
   },
   "file_extension": ".py",
   "mimetype": "text/x-python",
   "name": "python",
   "nbconvert_exporter": "python",
   "pygments_lexer": "ipython2",
   "version": "2.7.11"
  }
 },
 "nbformat": 4,
 "nbformat_minor": 1
}
